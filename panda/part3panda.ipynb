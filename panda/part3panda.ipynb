{
 "cells": [
  {
   "cell_type": "code",
   "execution_count": 1,
   "id": "0bcc9218-64db-472d-ad89-50fb29e2bebe",
   "metadata": {
    "tags": []
   },
   "outputs": [],
   "source": [
    "import pandas as pd"
   ]
  },
  {
   "cell_type": "code",
   "execution_count": 2,
   "id": "f85d1550-0fd0-4584-a4bc-b87d6e4b0803",
   "metadata": {},
   "outputs": [],
   "source": [
    "df = pd.read_csv(\"https://raw.githubusercontent.com/datasciencedojo/datasets/master/titanic.csv\")"
   ]
  },
  {
   "cell_type": "code",
   "execution_count": 19,
   "id": "16b60cf1-0d11-4cbb-af86-6c385af5886e",
   "metadata": {},
   "outputs": [
    {
     "data": {
      "text/plain": [
       "Index(['PassengerId', 'Survived', 'Pclass', 'Name', 'Sex', 'Age', 'SibSp',\n",
       "       'Parch', 'Ticket', 'Fare', 'Cabin', 'Embarked'],\n",
       "      dtype='object')"
      ]
     },
     "execution_count": 19,
     "metadata": {},
     "output_type": "execute_result"
    }
   ],
   "source": [
    "df.columns"
   ]
  },
  {
   "cell_type": "code",
   "execution_count": 20,
   "id": "6d21125e-3912-4344-87ff-3251be6cb627",
   "metadata": {},
   "outputs": [
    {
     "data": {
      "text/plain": [
       "891"
      ]
     },
     "execution_count": 20,
     "metadata": {},
     "output_type": "execute_result"
    }
   ],
   "source": [
    "len(df)"
   ]
  },
  {
   "cell_type": "code",
   "execution_count": 27,
   "id": "b4ac8563-6ba2-4cd1-aff1-112462d01c47",
   "metadata": {},
   "outputs": [],
   "source": [
    "s=df['Ticket'][0:8]"
   ]
  },
  {
   "cell_type": "code",
   "execution_count": 30,
   "id": "5bce5b5b-d080-4d96-9e2a-61fd067b8ea4",
   "metadata": {},
   "outputs": [
    {
     "data": {
      "text/plain": [
       "8"
      ]
     },
     "execution_count": 30,
     "metadata": {},
     "output_type": "execute_result"
    }
   ],
   "source": [
    "len(s)"
   ]
  },
  {
   "cell_type": "code",
   "execution_count": 31,
   "id": "dcfd5035-07d2-4a5e-8375-8455776ecbd9",
   "metadata": {},
   "outputs": [],
   "source": [
    "l=[\"A\",\"B\",\"C\",\"D\",\"E\",\"F\",\"G\",\"H\"]"
   ]
  },
  {
   "cell_type": "code",
   "execution_count": 35,
   "id": "25dda79c-0a70-4976-9a5b-a6da6c939292",
   "metadata": {},
   "outputs": [],
   "source": [
    "s1=pd.Series(list(s),index=l)"
   ]
  },
  {
   "cell_type": "code",
   "execution_count": 38,
   "id": "5ad5c77c-9b3b-4455-ae0e-675073736598",
   "metadata": {},
   "outputs": [
    {
     "data": {
      "text/plain": [
       "A           A/5 21171\n",
       "B            PC 17599\n",
       "C    STON/O2. 3101282\n",
       "D              113803\n",
       "E              373450\n",
       "F              330877\n",
       "G               17463\n",
       "H              349909\n",
       "dtype: object"
      ]
     },
     "execution_count": 38,
     "metadata": {},
     "output_type": "execute_result"
    }
   ],
   "source": [
    "s1"
   ]
  },
  {
   "cell_type": "code",
   "execution_count": 39,
   "id": "92822eb9-8504-4e3a-9bcf-a2f92f1afd83",
   "metadata": {},
   "outputs": [
    {
     "data": {
      "text/plain": [
       "0           A/5 21171\n",
       "1            PC 17599\n",
       "2    STON/O2. 3101282\n",
       "3              113803\n",
       "4              373450\n",
       "5              330877\n",
       "6               17463\n",
       "7              349909\n",
       "Name: Ticket, dtype: object"
      ]
     },
     "execution_count": 39,
     "metadata": {},
     "output_type": "execute_result"
    }
   ],
   "source": [
    "s"
   ]
  },
  {
   "cell_type": "code",
   "execution_count": 40,
   "id": "32f0c390-4475-4baa-8855-b8391fadbc88",
   "metadata": {},
   "outputs": [
    {
     "name": "stderr",
     "output_type": "stream",
     "text": [
      "/tmp/ipykernel_109/2547317544.py:1: FutureWarning: The series.append method is deprecated and will be removed from pandas in a future version. Use pandas.concat instead.\n",
      "  s3=s.append(s1)\n"
     ]
    }
   ],
   "source": [
    "s3=s.append(s1)"
   ]
  },
  {
   "cell_type": "code",
   "execution_count": 46,
   "id": "91c1391b-1e90-45b0-a198-309136d50e1a",
   "metadata": {},
   "outputs": [
    {
     "data": {
      "text/plain": [
       "'A/5 21171'"
      ]
     },
     "execution_count": 46,
     "metadata": {},
     "output_type": "execute_result"
    }
   ],
   "source": [
    "s3['A']"
   ]
  },
  {
   "cell_type": "code",
   "execution_count": 61,
   "id": "7da0acaa-8717-4548-8823-16b6d599a558",
   "metadata": {},
   "outputs": [],
   "source": [
    "s4=pd.Series([20,23,20,34,35],index=[1,2,3,4,5])"
   ]
  },
  {
   "cell_type": "code",
   "execution_count": 62,
   "id": "364a01c8-fef9-4785-9e84-c283e4164769",
   "metadata": {},
   "outputs": [],
   "source": [
    "s5=pd.Series([23,6,5,3,7,],index=[1,2,3,7,6])"
   ]
  },
  {
   "cell_type": "code",
   "execution_count": 63,
   "id": "4c491ce3-264e-42b5-bec6-e7c038689b87",
   "metadata": {},
   "outputs": [
    {
     "data": {
      "text/plain": [
       "1    460.0\n",
       "2    138.0\n",
       "3    100.0\n",
       "4      NaN\n",
       "5      NaN\n",
       "6      NaN\n",
       "7      NaN\n",
       "dtype: float64"
      ]
     },
     "execution_count": 63,
     "metadata": {},
     "output_type": "execute_result"
    }
   ],
   "source": [
    "s4*s5"
   ]
  },
  {
   "cell_type": "code",
   "execution_count": 64,
   "id": "0897474a-225c-44da-afe7-ed8284eeed10",
   "metadata": {},
   "outputs": [
    {
     "data": {
      "text/plain": [
       "1    43.0\n",
       "2    29.0\n",
       "3    25.0\n",
       "4     NaN\n",
       "5     NaN\n",
       "6     NaN\n",
       "7     NaN\n",
       "dtype: float64"
      ]
     },
     "execution_count": 64,
     "metadata": {},
     "output_type": "execute_result"
    }
   ],
   "source": [
    "s4+s5"
   ]
  },
  {
   "cell_type": "code",
   "execution_count": null,
   "id": "32e96bd4-5fca-4435-8f6b-1d1edd62880e",
   "metadata": {},
   "outputs": [],
   "source": []
  }
 ],
 "metadata": {
  "kernelspec": {
   "display_name": "Python 3 (ipykernel)",
   "language": "python",
   "name": "python3"
  },
  "language_info": {
   "codemirror_mode": {
    "name": "ipython",
    "version": 3
   },
   "file_extension": ".py",
   "mimetype": "text/x-python",
   "name": "python",
   "nbconvert_exporter": "python",
   "pygments_lexer": "ipython3",
   "version": "3.10.8"
  }
 },
 "nbformat": 4,
 "nbformat_minor": 5
}
