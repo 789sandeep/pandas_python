{
 "cells": [
  {
   "cell_type": "code",
   "execution_count": 1,
   "id": "78a80eab-d6d7-49a9-b77b-e5a56f908247",
   "metadata": {},
   "outputs": [
    {
     "name": "stdout",
     "output_type": "stream",
     "text": [
      "   name  age\n",
      "2   Bob   35\n",
      "1  Jane   30\n",
      "0  John   25\n"
     ]
    }
   ],
   "source": [
    "import pandas as pd\n",
    "\n",
    " \n",
    "\n",
    "data = {'name': ['John', 'Jane', 'Bob'], 'age': [25, 30, 35]}\n",
    "\n",
    "df = pd.DataFrame(data)\n",
    "\n",
    " \n",
    "\n",
    "df_reindexed = df.reindex([2, 1, 0])\n",
    "\n",
    " \n",
    "\n",
    "print(df_reindexed)"
   ]
  },
  {
   "cell_type": "code",
   "execution_count": 7,
   "id": "6bc4b35b-c09b-4564-8967-133c014657dc",
   "metadata": {},
   "outputs": [
    {
     "name": "stdout",
     "output_type": "stream",
     "text": [
      "John 25\n",
      "Jane 30\n",
      "Bob 35\n"
     ]
    }
   ],
   "source": [
    "import pandas as pd\n",
    "\n",
    " \n",
    "\n",
    "data = {'name': ['John', 'Jane', 'Bob'], 'age': [25, 30, 35]}\n",
    "\n",
    "df = pd.DataFrame(data)\n",
    "\n",
    " \n",
    "\n",
    "for indices,row in df.iterrows():\n",
    "\n",
    "    print(row['name'], row['age'])"
   ]
  },
  {
   "cell_type": "code",
   "execution_count": 8,
   "id": "e18c9fc5-7116-4d2f-8479-b78d1852977c",
   "metadata": {},
   "outputs": [
    {
     "data": {
      "text/plain": [
       "generator"
      ]
     },
     "execution_count": 8,
     "metadata": {},
     "output_type": "execute_result"
    }
   ],
   "source": [
    "type(df.iterrows())"
   ]
  },
  {
   "cell_type": "code",
   "execution_count": 9,
   "id": "ac04807f-b041-4255-a247-9a67b96e00ea",
   "metadata": {},
   "outputs": [
    {
     "name": "stdout",
     "output_type": "stream",
     "text": [
      "   name  age name_upper\n",
      "0  John   25       JOHN\n",
      "1  Jane   30       JANE\n",
      "2   Bob   35        BOB\n"
     ]
    }
   ],
   "source": [
    "import pandas as pd\n",
    "\n",
    " \n",
    "\n",
    "data = {'name': ['John', 'Jane', 'Bob'], 'age': [25, 30, 35]}\n",
    "\n",
    "df = pd.DataFrame(data)\n",
    "\n",
    " \n",
    "\n",
    "df['name_upper'] = df['name'].str.upper()\n",
    "\n",
    " \n",
    "\n",
    "print(df)"
   ]
  },
  {
   "cell_type": "code",
   "execution_count": null,
   "id": "9271671b-1a51-41d4-b87c-edf31c64ea9c",
   "metadata": {},
   "outputs": [],
   "source": []
  },
  {
   "cell_type": "code",
   "execution_count": 10,
   "id": "e85affed-ff47-4451-8168-ddb909d09519",
   "metadata": {},
   "outputs": [
    {
     "name": "stdout",
     "output_type": "stream",
     "text": [
      "1        Bob\n",
      "2    Charlie\n",
      "Name: name, dtype: object\n"
     ]
    }
   ],
   "source": [
    "import pandas as pd\n",
    "\n",
    " \n",
    "\n",
    "data = {'name': ['Alice', 'Bob', 'Charlie'], 'age': [30, 25, 40]}\n",
    "\n",
    "df = pd.DataFrame(data)\n",
    "\n",
    " \n",
    "\n",
    "df_subset = df.loc[1:2, 'name']\n",
    "\n",
    " \n",
    "\n",
    "print(df_subset)"
   ]
  },
  {
   "cell_type": "code",
   "execution_count": 30,
   "id": "ad971b6b-57f2-46c5-b50f-758a94ff7703",
   "metadata": {},
   "outputs": [
    {
     "data": {
      "text/html": [
       "<div>\n",
       "<style scoped>\n",
       "    .dataframe tbody tr th:only-of-type {\n",
       "        vertical-align: middle;\n",
       "    }\n",
       "\n",
       "    .dataframe tbody tr th {\n",
       "        vertical-align: top;\n",
       "    }\n",
       "\n",
       "    .dataframe thead th {\n",
       "        text-align: right;\n",
       "    }\n",
       "</style>\n",
       "<table border=\"1\" class=\"dataframe\">\n",
       "  <thead>\n",
       "    <tr style=\"text-align: right;\">\n",
       "      <th></th>\n",
       "      <th>name</th>\n",
       "      <th>age</th>\n",
       "      <th>gender</th>\n",
       "    </tr>\n",
       "  </thead>\n",
       "  <tbody>\n",
       "    <tr>\n",
       "      <th>0</th>\n",
       "      <td>alice</td>\n",
       "      <td>25</td>\n",
       "      <td>female</td>\n",
       "    </tr>\n",
       "    <tr>\n",
       "      <th>1</th>\n",
       "      <td>bob</td>\n",
       "      <td>30</td>\n",
       "      <td>male</td>\n",
       "    </tr>\n",
       "    <tr>\n",
       "      <th>2</th>\n",
       "      <td>clair</td>\n",
       "      <td>30</td>\n",
       "      <td>female</td>\n",
       "    </tr>\n",
       "  </tbody>\n",
       "</table>\n",
       "</div>"
      ],
      "text/plain": [
       "    name  age  gender\n",
       "0  alice   25  female\n",
       "1    bob   30    male\n",
       "2  clair   30  female"
      ]
     },
     "execution_count": 30,
     "metadata": {},
     "output_type": "execute_result"
    }
   ],
   "source": [
    "df1"
   ]
  },
  {
   "cell_type": "code",
   "execution_count": 110,
   "id": "82d717ac-e159-48b4-acdf-a8fde94ac882",
   "metadata": {},
   "outputs": [],
   "source": [
    "import csv\n",
    "data_frame=[[\"name\",\"age\",\"gender\"],\n",
    "           [\"deepak\",20,\"male\"],\n",
    "           [\"dilip\",20,\"male\"],\n",
    "           [\"shivam\",21,\"male\"],\n",
    "           [\"rakshak\",19,\"male\"],\n",
    "           [\"avinash\",19,\"male\"],\n",
    "           [\"avi\",25,\"female\"],\n",
    "           [\"peeu\",19,\"male\"],\n",
    "           [\"vedika\",30,\"female\"],\n",
    "           [\"dipika\",20,\"female\"],\n",
    "           [\"bhumi\",34,\"female\"]]\n",
    "with open(\"df1.csv\",\"w\") as f:\n",
    "    write=csv.writer(f)\n",
    "    for i in data_frame:\n",
    "        write.writerow(i)"
   ]
  },
  {
   "cell_type": "code",
   "execution_count": 121,
   "id": "1582a980-9d78-4818-9b45-41d3c5678fe8",
   "metadata": {},
   "outputs": [
    {
     "name": "stdout",
     "output_type": "stream",
     "text": [
      "    name  age  gender\n",
      "0  alice   25  female\n",
      "1    bob   30    male\n",
      "2  clair   30  female \n",
      "\n",
      "\n",
      "name\n",
      "avi        25.0\n",
      "avinash    19.0\n",
      "bhumi      34.0\n",
      "deepak     20.0\n",
      "dilip      20.0\n",
      "dipika     20.0\n",
      "peeu       19.0\n",
      "rakshak    19.0\n",
      "shivam     21.0\n",
      "vedika     30.0\n",
      "Name: age, dtype: float64 \n",
      "\n",
      "\n",
      "  name_x  age gender_x  name_y gender_y\n",
      "0  alice   25   female     avi   female\n",
      "1    bob   30     male  vedika   female\n",
      "2  clair   30   female  vedika   female \n",
      "\n",
      "\n",
      "      name  age  gender\n",
      "0   deepak   20    male\n",
      "1    dilip   20    male\n",
      "2   shivam   21    male\n",
      "3  rakshak   19    male\n",
      "4  avinash   19    male\n",
      "5      avi   25  female\n",
      "6     peeu   19    male\n",
      "7   vedika   30  female\n",
      "8   dipika   20  female\n",
      "9    bhumi   34  female \n",
      "\n",
      "\n",
      "      name  age gender\n",
      "0   deepak   20   male\n",
      "1    dilip   20   male\n",
      "2   shivam   21   male\n",
      "3  rakshak   19   male\n",
      "4  avinash   19   male\n"
     ]
    }
   ],
   "source": [
    "# Q1. List any five functions of the pandas library with execution.\n",
    "import pandas as pd\n",
    "# read_csv: This function is used to read data from a CSV file and return a DataFrame object.\n",
    "df=pd.read_csv(\"df.csv\")\n",
    "df1=pd.read_csv(\"df1.csv\")\n",
    "# groupby() - This function groups a DataFrame by one or more columns.\n",
    "group=df1.groupby([\"name\"])[\"age\"].mean()\n",
    "# merge(): This function is used to merge two DataFrames based on a common column.\n",
    "merg1=pd.merge(df,df1,on=\"age\")\n",
    "# fillna() - This function fills missing values in a DataFrame with a specified value.\n",
    "fila=df1.fillna(3)\n",
    "# head() - This function returns the first n rows of a DataFrame.\n",
    "top_4=df1.head()\n",
    "print(df,\"\\n\\n\")\n",
    "print(group,\"\\n\\n\")\n",
    "print(merg1,\"\\n\\n\")\n",
    "print(fila,\"\\n\\n\")\n",
    "print(top_4)"
   ]
  },
  {
   "cell_type": "code",
   "execution_count": 113,
   "id": "8b6ec87b-3379-4f20-8212-04642fc6eec8",
   "metadata": {},
   "outputs": [
    {
     "data": {
      "text/html": [
       "<div>\n",
       "<style scoped>\n",
       "    .dataframe tbody tr th:only-of-type {\n",
       "        vertical-align: middle;\n",
       "    }\n",
       "\n",
       "    .dataframe tbody tr th {\n",
       "        vertical-align: top;\n",
       "    }\n",
       "\n",
       "    .dataframe thead th {\n",
       "        text-align: right;\n",
       "    }\n",
       "</style>\n",
       "<table border=\"1\" class=\"dataframe\">\n",
       "  <thead>\n",
       "    <tr style=\"text-align: right;\">\n",
       "      <th></th>\n",
       "      <th>name</th>\n",
       "      <th>age</th>\n",
       "      <th>gender</th>\n",
       "    </tr>\n",
       "  </thead>\n",
       "  <tbody>\n",
       "    <tr>\n",
       "      <th>0</th>\n",
       "      <td>deepak</td>\n",
       "      <td>20</td>\n",
       "      <td>male</td>\n",
       "    </tr>\n",
       "    <tr>\n",
       "      <th>1</th>\n",
       "      <td>dilip</td>\n",
       "      <td>20</td>\n",
       "      <td>male</td>\n",
       "    </tr>\n",
       "    <tr>\n",
       "      <th>2</th>\n",
       "      <td>shivam</td>\n",
       "      <td>21</td>\n",
       "      <td>male</td>\n",
       "    </tr>\n",
       "    <tr>\n",
       "      <th>3</th>\n",
       "      <td>rakshak</td>\n",
       "      <td>19</td>\n",
       "      <td>male</td>\n",
       "    </tr>\n",
       "    <tr>\n",
       "      <th>4</th>\n",
       "      <td>avinash</td>\n",
       "      <td>19</td>\n",
       "      <td>male</td>\n",
       "    </tr>\n",
       "  </tbody>\n",
       "</table>\n",
       "</div>"
      ],
      "text/plain": [
       "      name  age gender\n",
       "0   deepak   20   male\n",
       "1    dilip   20   male\n",
       "2   shivam   21   male\n",
       "3  rakshak   19   male\n",
       "4  avinash   19   male"
      ]
     },
     "execution_count": 113,
     "metadata": {},
     "output_type": "execute_result"
    }
   ],
   "source": [
    "fila.head()"
   ]
  },
  {
   "cell_type": "code",
   "execution_count": 123,
   "id": "f439ba0b-c732-4dd0-9f18-4429ca1d6ed1",
   "metadata": {},
   "outputs": [],
   "source": [
    "def reindex_df(df):\n",
    "    new_index = pd.RangeIndex(start=1, step=2, stop=len(df)*2)\n",
    "    return df.set_index(new_index)\n",
    "new_df = reindex_df(df)"
   ]
  },
  {
   "cell_type": "code",
   "execution_count": 125,
   "id": "b211f085-f63b-45f2-8fef-9a019e98eb70",
   "metadata": {},
   "outputs": [
    {
     "data": {
      "text/html": [
       "<div>\n",
       "<style scoped>\n",
       "    .dataframe tbody tr th:only-of-type {\n",
       "        vertical-align: middle;\n",
       "    }\n",
       "\n",
       "    .dataframe tbody tr th {\n",
       "        vertical-align: top;\n",
       "    }\n",
       "\n",
       "    .dataframe thead th {\n",
       "        text-align: right;\n",
       "    }\n",
       "</style>\n",
       "<table border=\"1\" class=\"dataframe\">\n",
       "  <thead>\n",
       "    <tr style=\"text-align: right;\">\n",
       "      <th></th>\n",
       "      <th>name</th>\n",
       "      <th>age</th>\n",
       "      <th>gender</th>\n",
       "    </tr>\n",
       "  </thead>\n",
       "  <tbody>\n",
       "    <tr>\n",
       "      <th>1</th>\n",
       "      <td>alice</td>\n",
       "      <td>25</td>\n",
       "      <td>female</td>\n",
       "    </tr>\n",
       "    <tr>\n",
       "      <th>3</th>\n",
       "      <td>bob</td>\n",
       "      <td>30</td>\n",
       "      <td>male</td>\n",
       "    </tr>\n",
       "    <tr>\n",
       "      <th>5</th>\n",
       "      <td>clair</td>\n",
       "      <td>30</td>\n",
       "      <td>female</td>\n",
       "    </tr>\n",
       "  </tbody>\n",
       "</table>\n",
       "</div>"
      ],
      "text/plain": [
       "    name  age  gender\n",
       "1  alice   25  female\n",
       "3    bob   30    male\n",
       "5  clair   30  female"
      ]
     },
     "execution_count": 125,
     "metadata": {},
     "output_type": "execute_result"
    }
   ],
   "source": [
    "new_df"
   ]
  },
  {
   "cell_type": "code",
   "execution_count": 5,
   "id": "45def8a8-a95a-4ed7-9f8d-2a7651315fc7",
   "metadata": {},
   "outputs": [],
   "source": [
    "import pandas as pd\n"
   ]
  },
  {
   "cell_type": "code",
   "execution_count": 33,
   "id": "d23dfea3-64b1-4702-a013-33153fa3ebf5",
   "metadata": {},
   "outputs": [
    {
     "data": {
      "text/html": [
       "<div>\n",
       "<style scoped>\n",
       "    .dataframe tbody tr th:only-of-type {\n",
       "        vertical-align: middle;\n",
       "    }\n",
       "\n",
       "    .dataframe tbody tr th {\n",
       "        vertical-align: top;\n",
       "    }\n",
       "\n",
       "    .dataframe thead th {\n",
       "        text-align: right;\n",
       "    }\n",
       "</style>\n",
       "<table border=\"1\" class=\"dataframe\">\n",
       "  <thead>\n",
       "    <tr style=\"text-align: right;\">\n",
       "      <th></th>\n",
       "      <th>course_name</th>\n",
       "      <th>duration</th>\n",
       "    </tr>\n",
       "  </thead>\n",
       "  <tbody>\n",
       "    <tr>\n",
       "      <th>3</th>\n",
       "      <td>Big Data</td>\n",
       "      <td>6</td>\n",
       "    </tr>\n",
       "  </tbody>\n",
       "</table>\n",
       "</div>"
      ],
      "text/plain": [
       "  course_name  duration\n",
       "3    Big Data         6"
      ]
     },
     "execution_count": 33,
     "metadata": {},
     "output_type": "execute_result"
    }
   ],
   "source": [
    "\n",
    "# Q1. Write a code to print the data present in the second row of the dataframe, df.\n",
    "\n",
    "dta={'course_name':[ 'Data Science', 'Machine Learning', 'Big Data', 'Data Engineer'],\n",
    "     'duration': [2,3,6,4],\n",
    "    }\n",
    "df=pd.DataFrame(dta,index=[1,2,3,4])\n",
    "df\n",
    "df[['course_name','duration']][2:3]"
   ]
  },
  {
   "cell_type": "code",
   "execution_count": null,
   "id": "ba654be9-0224-4077-8e89-3967e7aaa473",
   "metadata": {},
   "outputs": [],
   "source": []
  },
  {
   "cell_type": "code",
   "execution_count": null,
   "id": "7b9e4724-4c4d-4db7-b249-ff0ec12deaca",
   "metadata": {},
   "outputs": [],
   "source": []
  }
 ],
 "metadata": {
  "kernelspec": {
   "display_name": "Python 3 (ipykernel)",
   "language": "python",
   "name": "python3"
  },
  "language_info": {
   "codemirror_mode": {
    "name": "ipython",
    "version": 3
   },
   "file_extension": ".py",
   "mimetype": "text/x-python",
   "name": "python",
   "nbconvert_exporter": "python",
   "pygments_lexer": "ipython3",
   "version": "3.10.8"
  }
 },
 "nbformat": 4,
 "nbformat_minor": 5
}
